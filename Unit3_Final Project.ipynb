{
 "cells": [
  {
   "cell_type": "code",
   "execution_count": 1,
   "metadata": {},
   "outputs": [],
   "source": [
    "#open files and read as strings\n",
    "alligator_DNA = open(\"American_Alligators.txt\").read()\n",
    "chicken_DNA = open(\"Red_Junglefowl.txt\").read()\n",
    "turtle_DNA = open(\"Leatherback_Sea_Turtle.txt\").read()\n",
    "\n",
    "import matplotlib.pyplot as plt"
   ]
  },
  {
   "cell_type": "code",
   "execution_count": 27,
   "metadata": {},
   "outputs": [
    {
     "name": "stdout",
     "output_type": "stream",
     "text": [
      "31.753130590339897\n",
      "29.159212880143116\n",
      "24.15026833631485\n"
     ]
    }
   ],
   "source": [
    "def Compare(animal1, animal2):\n",
    "    differences = 0\n",
    "    short_len = 0\n",
    "    for c, i in enumerate(animal1):\n",
    "        if c== len(animal2):\n",
    "            short_len = len(animal2)\n",
    "            break\n",
    "        if i!= animal2[c]:\n",
    "            differences += 1\n",
    "    return differences/ len(turtle_DNA)*100\n",
    "    \n",
    "print(Compare(chicken_DNA, alligator_DNA))\n",
    "print(Compare(alligator_DNA, turtle_DNA))\n",
    "print(Compare(turtle_DNA, chicken_DNA))"
   ]
  },
  {
   "cell_type": "markdown",
   "metadata": {},
   "source": [
    "### Alligator vs. Turtle"
   ]
  },
  {
   "cell_type": "code",
   "execution_count": 2,
   "metadata": {},
   "outputs": [
    {
     "name": "stdout",
     "output_type": "stream",
     "text": [
      "326\n"
     ]
    }
   ],
   "source": [
    "differences = 0\n",
    "for c, i in enumerate(alligator_DNA):\n",
    "    if c== len(turtle_DNA):\n",
    "        break\n",
    "    if i!= turtle_DNA[c]:\n",
    "        differences += 1\n",
    "print(differences)"
   ]
  },
  {
   "cell_type": "code",
   "execution_count": 3,
   "metadata": {},
   "outputs": [
    {
     "name": "stdout",
     "output_type": "stream",
     "text": [
      "29.159212880143116\n"
     ]
    }
   ],
   "source": [
    "AT = differences/ len(turtle_DNA)*100\n",
    "print(differences/ len(turtle_DNA)*100)"
   ]
  },
  {
   "cell_type": "markdown",
   "metadata": {},
   "source": [
    "### Chicken vs. Turtle"
   ]
  },
  {
   "cell_type": "code",
   "execution_count": 4,
   "metadata": {},
   "outputs": [
    {
     "name": "stdout",
     "output_type": "stream",
     "text": [
      "270\n"
     ]
    }
   ],
   "source": [
    "differences = 0\n",
    "for c, i in enumerate(chicken_DNA):\n",
    "    if c == len(turtle_DNA):\n",
    "        break\n",
    "    if i!= turtle_DNA[c]:\n",
    "        differences += 1\n",
    "print(differences)"
   ]
  },
  {
   "cell_type": "code",
   "execution_count": 5,
   "metadata": {},
   "outputs": [
    {
     "name": "stdout",
     "output_type": "stream",
     "text": [
      "23.957409050576754\n"
     ]
    }
   ],
   "source": [
    "CT = differences/ len(chicken_DNA)*100\n",
    "print(differences/ len(chicken_DNA)*100)"
   ]
  },
  {
   "cell_type": "markdown",
   "metadata": {},
   "source": [
    "### Chicken vs. Alligator "
   ]
  },
  {
   "cell_type": "code",
   "execution_count": 6,
   "metadata": {},
   "outputs": [
    {
     "name": "stdout",
     "output_type": "stream",
     "text": [
      "355\n"
     ]
    }
   ],
   "source": [
    "differences = 0\n",
    "for c, i in enumerate(chicken_DNA):\n",
    "    if c == len(alligator_DNA):\n",
    "        break\n",
    "    if i!= alligator_DNA[c]:\n",
    "        differences += 1\n",
    "print(differences)"
   ]
  },
  {
   "cell_type": "code",
   "execution_count": 7,
   "metadata": {},
   "outputs": [
    {
     "name": "stdout",
     "output_type": "stream",
     "text": [
      "31.49955634427684\n"
     ]
    }
   ],
   "source": [
    "CA = differences/ len(chicken_DNA)*100\n",
    "print(differences/ len(chicken_DNA)*100)"
   ]
  },
  {
   "cell_type": "code",
   "execution_count": 8,
   "metadata": {},
   "outputs": [
    {
     "name": "stdout",
     "output_type": "stream",
     "text": [
      "1211\n",
      "1118\n",
      "1127\n"
     ]
    }
   ],
   "source": [
    "print(len(alligator_DNA))\n",
    "print(len(turtle_DNA))\n",
    "print(len(chicken_DNA))"
   ]
  },
  {
   "cell_type": "code",
   "execution_count": 28,
   "metadata": {},
   "outputs": [
    {
     "data": {
      "image/png": "[encoded data removed]",
      "text/plain": [
       "<Figure size 432x288 with 1 Axes>"
      ]
     },
     "metadata": {
      "needs_background": "light"
     },
     "output_type": "display_data"
    }
   ],
   "source": [
    "plt.bar([1,2,3], [CA, AT, CT], color = [\"hotpink\", \"blueviolet\", \"deepskyblue\"])\n",
    "plt.xticks([1,2,3], [\"Chicken vs. Alligator\",\"Alligator vs. Turtle\",\"Turtle vs. Chicken\"])\n",
    "plt.xlabel(\"Animals\")\n",
    "plt.ylabel(\"Percent Differences\")\n",
    "plt.title(\"DNA differences\")\n",
    "plt.scatter([],[],c=\"hotpink\",label=\"31.5%\")\n",
    "plt.scatter([],[],c=\"blueviolet\",label=\"29.2%\")\n",
    "plt.scatter([],[],c=\"deepskyblue\",label=\"24.2%\")\n",
    "plt.legend(bbox_to_anchor =[1.25, 1.0])\n",
    "plt.savefig(\"DNA Differences.png\",dpi = 1500)\n",
    "plt.show()"
   ]
  },
  {
   "cell_type": "code",
   "execution_count": null,
   "metadata": {},
   "outputs": [],
   "source": [
    "#def AddNum(num1, num2):\n",
    "    #n_sum = num1 +num2\n",
    "    #return n_sum\n",
    "#print(AddNum(3,5))"
   ]
  },
  {
   "cell_type": "code",
   "execution_count": null,
   "metadata": {},
   "outputs": [],
   "source": [
    "#my_list = [1,2,3,4,5,6,7,8,9]\n",
    "#def my_len(obj):\n",
    "    #c = 0\n",
    "    #for i in obj:\n",
    "        #c += 1\n",
    "    #return c\n",
    "#print(my_len(my_list))\n",
    "#print(len(my_list))\n",
    "#my_list_len = my_len(my_list)"
   ]
  },
  {
   "cell_type": "code",
   "execution_count": null,
   "metadata": {},
   "outputs": [],
   "source": []
  }
 ],
 "metadata": {
  "kernelspec": {
   "display_name": "Python 3",
   "language": "python",
   "name": "python3"
  },
  "language_info": {
   "codemirror_mode": {
    "name": "ipython",
    "version": 3
   },
   "file_extension": ".py",
   "mimetype": "text/x-python",
   "name": "python",
   "nbconvert_exporter": "python",
   "pygments_lexer": "ipython3",
   "version": "3.7.3"
  }
 },
 "nbformat": 4,
 "nbformat_minor": 2
}
